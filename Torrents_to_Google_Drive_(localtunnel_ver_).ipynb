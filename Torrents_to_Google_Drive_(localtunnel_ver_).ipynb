{
  "nbformat": 4,
  "nbformat_minor": 0,
  "metadata": {
    "colab": {
      "name": "Torrents to Google Drive (localtunnel ver.)",
      "provenance": [],
      "collapsed_sections": [
        "4E-uzYrv5o0B",
        "fkaNFMaxHDWz",
        "6I2huqscJEPn"
      ]
    },
    "kernelspec": {
      "display_name": "Python 3",
      "language": "python",
      "name": "python3"
    },
    "language_info": {
      "codemirror_mode": {
        "name": "ipython",
        "version": 3
      },
      "file_extension": ".py",
      "mimetype": "text/x-python",
      "name": "python",
      "nbconvert_exporter": "python",
      "pygments_lexer": "ipython3",
      "version": "3.9.2"
    }
  },
  "cells": [
    {
      "cell_type": "markdown",
      "metadata": {
        "id": "HGctdySsIGFS"
      },
      "source": [
        "# **<font color='blue'> Torrents to Google Drive - Shared by [jakbin](https://github.com/jakbin) and slightly ) </font>**\n"
      ]
    },
    {
      "cell_type": "markdown",
      "metadata": {
        "id": "4E-uzYrv5o0B"
      },
      "source": [
        "### Mount Google Drive"
      ]
    },
    {
      "cell_type": "code",
      "metadata": {
        "cellView": "form",
        "id": "iroeLPFdXbif",
        "outputId": "23496687-86b3-4d63-b3ec-8a634f47725c",
        "colab": {
          "base_uri": "https://localhost:8080/"
        }
      },
      "source": [
        "from google.colab import drive\n",
        "\n",
        "drive.mount(\"/content/TeamDrive/\")\n"
      ],
      "execution_count": 1,
      "outputs": [
        {
          "output_type": "stream",
          "name": "stdout",
          "text": [
            "Drive already mounted at /content/TeamDrive/; to attempt to forcibly remount, call drive.mount(\"/content/TeamDrive/\", force_remount=True).\n"
          ]
        }
      ]
    },
    {
      "cell_type": "code",
      "metadata": {
        "id": "ZkpMzGPXzWOv",
        "outputId": "6e9793e3-6837-4dba-db01-3a8aa21fdaf8",
        "colab": {
          "base_uri": "https://localhost:8080/"
        }
      },
      "source": [
        "%cd TeamDrive/Shareddrives/TeamDrive/Torrents/\n",
        "%ls"
      ],
      "execution_count": 2,
      "outputs": [
        {
          "output_type": "stream",
          "name": "stdout",
          "text": [
            "/content/TeamDrive/Shareddrives/TeamDrive/Torrents\n"
          ]
        }
      ]
    },
    {
      "cell_type": "markdown",
      "metadata": {
        "id": "fkaNFMaxHDWz"
      },
      "source": [
        "---\n",
        "# <img src='https://raw.githubusercontent.com/sudo-ken/Torrents-to-Google-Drive/master/title_qbittorrent.png' height=\"45\" alt=\"qBittorrent\"/>"
      ]
    },
    {
      "cell_type": "code",
      "metadata": {
        "cellView": "form",
        "id": "z3GBOoFFY9CB",
        "outputId": "b39b7874-923d-4587-dcec-e82c1869e5aa",
        "colab": {
          "base_uri": "https://localhost:8080/"
        }
      },
      "source": [
        "###INSTALL LOCALTUNNEL\n",
        "!npm install -g localtunnel\n"
      ],
      "execution_count": 5,
      "outputs": [
        {
          "output_type": "stream",
          "name": "stdout",
          "text": [
            "\u001b[K\u001b[?25h/tools/node/bin/lt -> /tools/node/lib/node_modules/localtunnel/bin/lt.js\n",
            "\u001b[K\u001b[?25h+ localtunnel@2.0.2\n",
            "added 22 packages from 22 contributors in 1.784s\n"
          ]
        }
      ]
    },
    {
      "cell_type": "code",
      "metadata": {
        "cellView": "form",
        "id": "ELoHkXE1Xnms",
        "outputId": "cdebefce-b180-4238-cb07-3e59f906d3b1",
        "colab": {
          "base_uri": "https://localhost:8080/"
        }
      },
      "source": [
        "###INSTALL QBITTORRENT\n",
        "import os, time, urllib.request, json; from IPython.display import clear_output\n",
        "\n",
        "\n",
        "if os.path.isfile(\"/usr/bin/qbittorrent-nox\") == False:\n",
        "    get_ipython().system_raw(\"apt update -qq -y && yes \"\" | add-apt-repository ppa:qbittorrent-team/qbittorrent-stable\")\n",
        "    get_ipython().system_raw(\"apt install qbittorrent-nox\")\n",
        "    get_ipython().system_raw(\"mkdir -p -m 666 /{content/qBittorrent,root/{.qBittorrent_temp,.config/qBittorrent}} && curl -s https://raw.githubusercontent.com/joseashb/Torrents-to-Google-Drive/main/qconfig.txt -o /root/.config/qBittorrent/qBittorrent.conf\")\n",
        "    print(\"qBittorrent successfully installed.\")\n",
        "    clear_output(wait=True)\n",
        "else:\n",
        "    print(\"qBittorrent already installed. Skipping...\")\n",
        "    clear_output(wait=True)\n",
        "    !pkill qbittorrent-nox\n",
        "    \n",
        "!qbittorrent-nox -d --webui-port=5454\n",
        "print(\"qBittorrent started \")\n",
        "clear_output(wait=True)\n",
        "\n",
        "!lt --port 5454"
      ],
      "execution_count": null,
      "outputs": [
        {
          "output_type": "stream",
          "name": "stdout",
          "text": [
            "your url is: https://bad-puma-10.loca.lt\n"
          ]
        }
      ]
    },
    {
      "cell_type": "code",
      "metadata": {
        "id": "SZJnr0Np1LMm"
      },
      "source": [
        "%ls"
      ],
      "execution_count": null,
      "outputs": []
    },
    {
      "cell_type": "markdown",
      "metadata": {
        "id": "NWzjsFrswR4K"
      },
      "source": [
        "#__Run Web File Browser__"
      ]
    },
    {
      "cell_type": "code",
      "metadata": {
        "id": "2dTd1L5ewR4L",
        "outputId": "e43e7421-8712-43ae-c13a-298f0587559a",
        "colab": {
          "base_uri": "https://localhost:8080/"
        }
      },
      "source": [
        "import os \n",
        "import shutil\n",
        "import click\n",
        "\n",
        "if os.path.isdir(\"KodExplorer-4.46\"):\n",
        "    if click.confirm(\"Do you want remove old KodExplorer folder\"):\n",
        "        shutil.rmtree('KodExplorer-4.46', ignore_errors=True)\n",
        "\n",
        "if os.path.isfile(\"4.46.zip\")==False:\n",
        "    os.system(\"wget 'https://github.com/kalcaddle/KodExplorer/archive/refs/tags/4.46.zip'\")\n",
        "\n",
        "if os.path.isfile(\"/usr/bin/unzip\"):\n",
        "    os.system(\"unzip 4.46.zip\")\n",
        "else :\n",
        "    os.system(\"apt install unzip\")\n",
        "    os.system(\"unzip 4.46.zip\")\n",
        "\n",
        "print(\"installing php...\")\n",
        "!apt install php7.2 > /dev/null 2>&1\n",
        "if os.path.isfile(\"/usr/bin/php7.2\"):\n",
        "    print(\"php installed\")\n",
        "!apt install php7.2-curl > /dev/null 2>&1\n",
        "if os.path.isdir(\"/usr/share/php7.2-curl\"):\n",
        "    print(\"php7.2-curl installed\")\n",
        "!apt install php7.2-mbstring > /dev/null 2>&1\n",
        "if os.path.isdir(\"/usr/share/php7.2-mbstring\"):\n",
        "    print(\"php7.2-mbstring installed\")\n",
        "!apt install php7.2-gd > /dev/null 2>&1\n",
        "if os.path.isdir(\"/usr/share/php7.2-gd\"):\n",
        "    print(\"php7.2-gd installed\")\n",
        "    \n",
        "!php7.2 -S 127.0.0.1:8081 -t KodExplorer-4.46/ > /dev/null 2>&1 &\n",
        "\n",
        "!npm install -g localtunnel\n",
        "!lt --port 8081"
      ],
      "execution_count": null,
      "outputs": [
        {
          "output_type": "stream",
          "name": "stdout",
          "text": [
            "installing php...\n"
          ]
        }
      ]
    },
    {
      "cell_type": "markdown",
      "metadata": {
        "id": "_T-A9oteyW14"
      },
      "source": [
        "### 📚 Follow me on GitHub for more: [_@jakbin_](https://github.com/jakbin)\n",
        "##### 📦 Repo: [Github](https://github.com/jakbin/Torrents-to-Google-Drive)"
      ]
    }
  ]
}