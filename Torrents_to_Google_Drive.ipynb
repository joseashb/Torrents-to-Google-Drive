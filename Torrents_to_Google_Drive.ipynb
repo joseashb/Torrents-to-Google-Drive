{
 "cells": [
  {
   "cell_type": "markdown",
   "source": [
    "<a href=\"https://colab.research.google.com/github/jakbin/Torrents-to-Google-Drive/blob/master/Torrents_to_Google_Drive.ipynb\" target=\"_parent\"><img src=\"https://colab.research.google.com/assets/colab-badge.svg\" alt=\"Open In Colab\"/></a>"
   ],
   "metadata": {
    "colab_type": "text",
    "id": "view-in-github"
   }
  },
  {
   "cell_type": "markdown",
   "source": [
    "# **<font color='blue'> Torrents to Google Drive - Shared by [jakbin](https://github.com/jakbin) and slightly ) </font>**\n"
   ],
   "metadata": {
    "id": "HGctdySsIGFS"
   }
  },
  {
   "cell_type": "markdown",
   "source": [
    "### Mount Google Drive"
   ],
   "metadata": {
    "id": "4E-uzYrv5o0B"
   }
  },
  {
   "cell_type": "code",
   "execution_count": null,
   "source": [
    "from google.colab import drive\n",
    "\n",
    "drive.mount(\"/content/drive\")"
   ],
   "outputs": [],
   "metadata": {
    "cellView": "form",
    "id": "iroeLPFdXbif"
   }
  },
  {
   "cell_type": "markdown",
   "source": [
    "---\n",
    "# <img src='https://raw.githubusercontent.com/sudo-ken/Torrents-to-Google-Drive/master/title_qbittorrent.png' height=\"45\" alt=\"qBittorrent\"/>"
   ],
   "metadata": {
    "id": "fkaNFMaxHDWz"
   }
  },
  {
   "cell_type": "code",
   "execution_count": null,
   "source": [
    "###INSTALL LOCALTUNNEL\n",
    "!npm install -g localtunnel\n"
   ],
   "outputs": [],
   "metadata": {
    "cellView": "form",
    "id": "z3GBOoFFY9CB"
   }
  },
  {
   "cell_type": "code",
   "execution_count": null,
   "source": [
    "###INSTALL QBITTORRENT\n",
    "import os, time, urllib.request, json; from IPython.display import clear_output\n",
    "\n",
    "\n",
    "if os.path.isfile(\"/usr/bin/qbittorrent-nox\") == False:\n",
    "    get_ipython().system_raw(\"apt update -qq -y && yes \"\" | add-apt-repository ppa:qbittorrent-team/qbittorrent-stable\")\n",
    "    get_ipython().system_raw(\"apt install qbittorrent-nox\")\n",
    "    get_ipython().system_raw(\"mkdir -p -m 666 /{content/qBittorrent,root/{.qBittorrent_temp,.config/qBittorrent}} && curl -s https://raw.githubusercontent.com/jakbin/Torrents-to-Google-Drive/main/7TEALGNz.txt -o /root/.config/qBittorrent/qBittorrent.conf\")\n",
    "    print(\"qBittorrent successfully installed.\")\n",
    "    clear_output(wait=True)\n",
    "else:\n",
    "    print(\"qBittorrent already installed. Skipping...\")\n",
    "    clear_output(wait=True)\n",
    "    !pkill qbittorrent-nox\n",
    "    \n",
    "!qbittorrent-nox -d --webui-port=5454\n",
    "print(\"qBittorrent started \")\n",
    "clear_output(wait=True)\n",
    "\n",
    "!lt --port 5454"
   ],
   "outputs": [],
   "metadata": {
    "cellView": "form",
    "id": "ELoHkXE1Xnms"
   }
  },
  {
   "cell_type": "markdown",
   "source": [
    "#__Unzip/Unrar/Untar Files__"
   ],
   "metadata": {
    "colab_type": "text",
    "id": "hi4f8Ba-diVf"
   }
  },
  {
   "cell_type": "markdown",
   "source": [
    "##__Unzip Files__\n",
    "\n"
   ],
   "metadata": {
    "colab_type": "text",
    "id": "bAls_UEYfwIX"
   }
  },
  {
   "cell_type": "markdown",
   "source": [
    "*   First path in below cell - Your Google Drive file location which you want to Unzip\n",
    "*   Second path in below cell - Path where you want to extract the zip file in Google Drive"
   ],
   "metadata": {
    "colab_type": "text",
    "id": "o_zFmom9fWNW"
   }
  },
  {
   "cell_type": "code",
   "execution_count": null,
   "source": [
    "!unzip \"/content/drive/path/input_file_name.zip\" -d \"/content/drive/path/output_folder/\""
   ],
   "outputs": [],
   "metadata": {
    "cellView": "both",
    "colab": {},
    "colab_type": "code",
    "id": "O1_kc7HBeslm"
   }
  },
  {
   "cell_type": "markdown",
   "source": [
    "##__Unrar Files</center>__\n",
    "\n",
    "\n",
    "\n"
   ],
   "metadata": {
    "colab_type": "text",
    "id": "IoAshgcf45gs"
   }
  },
  {
   "cell_type": "markdown",
   "source": [
    "*   First path in below cell - Your Google Drive file location which you want to Unrar\n",
    "*   Second path in below cell - Path where you want to extract the rar file in Google Drive\n",
    "\n",
    "*If you want to extract a password protected rar file, then add \"-Y\" flag or Use this command instead of the command in the cell\n",
    "(replace the command with the command in the cell)*\n",
    "\n",
    "* ```\n",
    "!unrar x -Y \"/content/drive/path/input_file_name.rar\" \"/content/drive/path/output_folder/\"\n",
    "```\n",
    "\n",
    "\n",
    "\n"
   ],
   "metadata": {
    "colab_type": "text",
    "id": "Z1Ql6FiDdBYW"
   }
  },
  {
   "cell_type": "code",
   "execution_count": null,
   "source": [
    "!unrar x \"/content/drive/path/input_file_name.rar\" \"/content/drive/path/output_folder/\""
   ],
   "outputs": [],
   "metadata": {
    "cellView": "both",
    "colab": {},
    "colab_type": "code",
    "id": "5ScZvnCdzKm3"
   }
  },
  {
   "cell_type": "markdown",
   "source": [
    "##__Untar Files__\n",
    "\n"
   ],
   "metadata": {
    "colab_type": "text",
    "id": "o1PFiGyMAMvg"
   }
  },
  {
   "cell_type": "markdown",
   "source": [
    "*   First path in below cell - Your Google Drive file location which you want to Untar\n",
    "*   Second path in below cell - Path where you want to extract the tar file in Google Drive\n",
    "\n",
    " *__Flags__*\n",
    "\n",
    " * -x : Extract a tar ball.\n",
    " * -v : Verbose output or show progress while extracting files.\n",
    " * -f : Specify an archive or a tarball filename.\n",
    " * -C : Specify a different directory to extract\n",
    " * -z : Decompress and extract the contents of the compressed archive created by gzip program (tar.gz extension).\n",
    " * -j : Decompress and extract the contents of the compressed archive created by bzip2 program (tar.bz2 extension)."
   ],
   "metadata": {
    "colab_type": "text",
    "id": "sBWJzqQtAMvg"
   }
  },
  {
   "cell_type": "code",
   "execution_count": null,
   "source": [
    "!tar -xvf \"/content/drive/path/input_file_name.tar\" -C \"/content/drive/path/output_folder/\"     #[run this cell to extract tar files]"
   ],
   "outputs": [],
   "metadata": {
    "cellView": "both",
    "colab": {},
    "colab_type": "code",
    "id": "EKjIowyWAMvh"
   }
  },
  {
   "cell_type": "code",
   "execution_count": null,
   "source": [
    "!tar -xzvf \"/content/drive/path/input_file_name.tar.gz\" -C \"/content/drive/path/output_folder/\"     #[run this cell to extract tar.gz files]"
   ],
   "outputs": [],
   "metadata": {
    "colab": {},
    "colab_type": "code",
    "id": "YfSkw7IFH2pl"
   }
  },
  {
   "cell_type": "code",
   "execution_count": null,
   "source": [
    "!tar -xjvf \"/content/drive/path/input_file_name.tar.bz2\" -C \"/content/drive/path/output_folder/\"     #[run this cell to extract tar.bz2 files]"
   ],
   "outputs": [],
   "metadata": {
    "colab": {},
    "colab_type": "code",
    "id": "tVaZLH-hH54z"
   }
  },
  {
   "cell_type": "markdown",
   "source": [
    "#__Zip/Rar/Tar Files/Folders__"
   ],
   "metadata": {
    "colab_type": "text",
    "id": "mOnUdLJqVaYA"
   }
  },
  {
   "cell_type": "markdown",
   "source": [
    "##__Zip Files/Folders__\n",
    "\n"
   ],
   "metadata": {
    "colab_type": "text",
    "id": "VKdYIG49VaYA"
   }
  },
  {
   "cell_type": "markdown",
   "source": [
    "*   First path in below cell - Your Zip output filename\n",
    "*   Second path in below cell - Google Drive file location of the files which you want to Zip"
   ],
   "metadata": {
    "colab_type": "text",
    "id": "n_x6sSnoVaYB"
   }
  },
  {
   "cell_type": "code",
   "execution_count": null,
   "source": [
    "!zip \"/content/drive/path/output_file_name.zip\" \"/content/drive/My Drive/Tutorial/games\""
   ],
   "outputs": [],
   "metadata": {
    "cellView": "both",
    "colab": {},
    "colab_type": "code",
    "id": "zZ4DrMhmVaYB"
   }
  },
  {
   "cell_type": "markdown",
   "source": [
    "##__Rar Files/Folders__\n",
    "\n",
    "\n",
    "\n"
   ],
   "metadata": {
    "colab_type": "text",
    "id": "BjYXYIk0VaYE"
   }
  },
  {
   "cell_type": "code",
   "execution_count": null,
   "source": [
    "# <= Click this cell to rar the folder\n",
    "\n",
    "!apt-get install rar"
   ],
   "outputs": [],
   "metadata": {
    "colab": {},
    "colab_type": "code",
    "id": "lNeNaDMSWHFI"
   }
  },
  {
   "cell_type": "markdown",
   "source": [
    "*   First path in below cell - Your Rar File output Name (do not put .rar at the end. It will take it automatically)\n",
    "*   Second path in below cell - Google Drive file location of the files/folder which you want to Rar\n",
    "\n",
    "*If you want to create a password protected rar file, then add \"-p\" flag or Use this command instead of the command in in the cell.\n",
    "(replace the command with the command in the cell) After running the cell, it will ask you to provide the password*\n",
    "\n",
    "* ```\n",
    "!rar a -p \"/content/drive/path/output_file_name\" \"/content/drive/path/input_file_or_folder\"\n",
    "```"
   ],
   "metadata": {
    "colab_type": "text",
    "id": "G24N0obDVaYE"
   }
  },
  {
   "cell_type": "code",
   "execution_count": null,
   "source": [
    "!rar a \"/content/drive/path/output_file_name\" \"/content/drive/path/input_file_or_folder\""
   ],
   "outputs": [],
   "metadata": {
    "cellView": "both",
    "colab": {},
    "colab_type": "code",
    "id": "WtbqIDwIVaYF"
   }
  },
  {
   "cell_type": "markdown",
   "source": [
    "##__Tar Files/Folders__\n",
    "\n"
   ],
   "metadata": {
    "colab_type": "text",
    "id": "Dm58cAVSAFbr"
   }
  },
  {
   "cell_type": "markdown",
   "source": [
    "*   First path in below cell - Your Tar output filename\n",
    "*   Second path in below cell - Google Drive file location of the files which you want to Tar\n",
    "\n",
    " *__Flags__*\n",
    "\n",
    " * -c : Create a new archive\n",
    " * -v : Verbose output\n",
    " * -f : Use the given archive file (name.extention)\n",
    " * -z : Filter the archive through gzip\n",
    " * -j : Filter the archive through bzip2"
   ],
   "metadata": {
    "colab_type": "text",
    "id": "9aBzSi69AFbt"
   }
  },
  {
   "cell_type": "code",
   "execution_count": null,
   "source": [
    "!tar -cvf \"/content/drive/path/output_file_name.tar\" \"/content/drive/path/input_file_or_folder\"     #[run this cell to create tar files]"
   ],
   "outputs": [],
   "metadata": {
    "cellView": "both",
    "colab": {},
    "colab_type": "code",
    "id": "EjAf_hxSAFbt"
   }
  },
  {
   "cell_type": "code",
   "execution_count": null,
   "source": [
    "!tar -czvf \"/content/drive/path/output_file_name.tar.gz\" \"/content/drive/path/input_file_or_folder\"     #[run this cell to create tar.gz files]"
   ],
   "outputs": [],
   "metadata": {
    "colab": {},
    "colab_type": "code",
    "id": "0n-O8xGADZ2o"
   }
  },
  {
   "cell_type": "code",
   "execution_count": null,
   "source": [
    "!tar -cjvf \"/content/drive/path/output_file_name.tar.bz2\" \"/content/drive/path/input_file_or_folder\"      #[run this cell to create tar.bz2 files]"
   ],
   "outputs": [],
   "metadata": {
    "colab": {},
    "colab_type": "code",
    "id": "qjdZ4cTbD8qx"
   }
  },
  {
   "cell_type": "markdown",
   "source": [
    "### Run Web File Browser"
   ],
   "metadata": {}
  },
  {
   "cell_type": "code",
   "execution_count": null,
   "source": [
    "import os \n",
    "import shutil\n",
    "import click\n",
    "\n",
    "if os.path.isdir(\"KodExplorer-4.46\"):\n",
    "    if click.confirm(\"Do you want remove old KodExplorer folder\"):\n",
    "        shutil.rmtree('KodExplorer-4.46', ignore_errors=True)\n",
    "\n",
    "if os.path.isfile(\"4.46.zip\")==False:\n",
    "    os.system(\"wget 'https://github.com/kalcaddle/KodExplorer/archive/refs/tags/4.46.zip'\")\n",
    "\n",
    "if os.path.isfile(\"/usr/bin/unzip\"):\n",
    "    os.system(\"unzip 4.46.zip\")\n",
    "else :\n",
    "    os.system(\"apt install unzip\")\n",
    "    os.system(\"unzip 4.46.zip\")\n",
    "\n",
    "print(\"installing php...\")\n",
    "!apt install php7.2 > /dev/null 2>&1\n",
    "if os.path.isfile(\"/usr/bin/php7.2\"):\n",
    "    print(\"php installed\")\n",
    "!apt install php7.2-curl > /dev/null 2>&1\n",
    "if os.path.isdir(\"/usr/share/php7.2-curl\"):\n",
    "    print(\"php7.2-curl installed\")\n",
    "!apt install php7.2-mbstring > /dev/null 2>&1\n",
    "if os.path.isdir(\"/usr/share/php7.2-mbstring\"):\n",
    "    print(\"php7.2-mbstring installed\")\n",
    "!apt install php7.2-gd > /dev/null 2>&1\n",
    "if os.path.isdir(\"/usr/share/php7.2-gd\"):\n",
    "    print(\"php7.2-gd installed\")\n",
    "    \n",
    "!php7.2 -S 127.0.0.1:8081 -t KodExplorer-4.46/ > /dev/null 2>&1 &\n",
    "\n",
    "!npm install -g localtunnel\n",
    "!lt --port 8081"
   ],
   "outputs": [],
   "metadata": {}
  },
  {
   "cell_type": "markdown",
   "source": [
    "### 📚 Follow me on GitHub for more: [_@jakbin_](https://github.com/jakbin)\n",
    "##### 📦 Repo: [Github](https://github.com/jakbin/Torrents-to-Google-Drive)"
   ],
   "metadata": {
    "id": "_T-A9oteyW14"
   }
  }
 ],
 "metadata": {
  "accelerator": "GPU",
  "colab": {
   "collapsed_sections": [
    "4E-uzYrv5o0B",
    "fkaNFMaxHDWz",
    "6I2huqscJEPn"
   ],
   "include_colab_link": true,
   "name": "Torrents to Google Drive (localtunnel ver.)",
   "provenance": [],
   "toc_visible": true
  },
  "kernelspec": {
   "display_name": "Python 3",
   "language": "python",
   "name": "python3"
  },
  "language_info": {
   "codemirror_mode": {
    "name": "ipython",
    "version": 3
   },
   "file_extension": ".py",
   "mimetype": "text/x-python",
   "name": "python",
   "nbconvert_exporter": "python",
   "pygments_lexer": "ipython3",
   "version": "3.9.2"
  }
 },
 "nbformat": 4,
 "nbformat_minor": 1
}