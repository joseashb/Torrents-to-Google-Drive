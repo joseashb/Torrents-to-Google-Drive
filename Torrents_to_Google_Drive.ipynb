{
 "cells": [
  {
   "cell_type": "markdown",
   "source": [
    "<a href=\"https://colab.research.google.com/github/jakbin/Torrents-to-Google-Drive/blob/master/Torrents_to_Google_Drive.ipynb\" target=\"_parent\"><img src=\"https://colab.research.google.com/assets/colab-badge.svg\" alt=\"Open In Colab\"/></a>"
   ],
   "metadata": {
    "colab_type": "text",
    "id": "view-in-github"
   }
  },
  {
   "cell_type": "markdown",
   "source": [
    "# **<font color='blue'> Torrents to Google Drive - Shared by [jakbin](https://github.com/jakbin) and slightly ) </font>**\n"
   ],
   "metadata": {
    "id": "HGctdySsIGFS"
   }
  },
  {
   "cell_type": "markdown",
   "source": [
    "### Mount Google Drive"
   ],
   "metadata": {
    "id": "4E-uzYrv5o0B"
   }
  },
  {
   "cell_type": "code",
   "execution_count": null,
   "source": [
    "from google.colab import drive\n",
    "\n",
    "drive.mount(\"/content/drive\")"
   ],
   "outputs": [],
   "metadata": {
    "cellView": "form",
    "id": "iroeLPFdXbif"
   }
  },
  {
   "cell_type": "markdown",
   "source": [
    "---\n",
    "# <img src='https://raw.githubusercontent.com/sudo-ken/Torrents-to-Google-Drive/master/title_qbittorrent.png' height=\"45\" alt=\"qBittorrent\"/>"
   ],
   "metadata": {
    "id": "fkaNFMaxHDWz"
   }
  },
  {
   "cell_type": "code",
   "execution_count": null,
   "source": [
    "###INSTALL LOCALTUNNEL\n",
    "!npm install -g localtunnel\n"
   ],
   "outputs": [],
   "metadata": {
    "cellView": "form",
    "id": "z3GBOoFFY9CB"
   }
  },
  {
   "cell_type": "code",
   "execution_count": null,
   "source": [
    "###INSTALL QBITTORRENT\n",
    "import os, time, urllib.request, json; from IPython.display import clear_output\n",
    "\n",
    "\n",
    "if os.path.isfile(\"/usr/bin/qbittorrent-nox\") == False:\n",
    "    get_ipython().system_raw(\"apt update -qq -y && yes \"\" | add-apt-repository ppa:qbittorrent-team/qbittorrent-stable\")\n",
    "    get_ipython().system_raw(\"apt install qbittorrent-nox\")\n",
    "    get_ipython().system_raw(\"mkdir -p -m 666 /{content/qBittorrent,root/{.qBittorrent_temp,.config/qBittorrent}} && curl -s https://raw.githubusercontent.com/jakbin/Torrents-to-Google-Drive/main/7TEALGNz.txt -o /root/.config/qBittorrent/qBittorrent.conf\")\n",
    "    print(\"qBittorrent successfully installed.\")\n",
    "    clear_output(wait=True)\n",
    "else:\n",
    "    print(\"qBittorrent already installed. Skipping...\")\n",
    "    clear_output(wait=True)\n",
    "    !pkill qbittorrent-nox\n",
    "    \n",
    "!qbittorrent-nox -d --webui-port=5454\n",
    "print(\"qBittorrent started \")\n",
    "clear_output(wait=True)\n",
    "\n",
    "!lt --port 5454"
   ],
   "outputs": [],
   "metadata": {
    "cellView": "form",
    "id": "ELoHkXE1Xnms"
   }
  },
  {
   "cell_type": "markdown",
   "source": [
    "### Run Web File Browser"
   ],
   "metadata": {}
  },
  {
   "cell_type": "code",
   "execution_count": null,
   "source": [
    "import os \n",
    "\n",
    "if os.path.isfile(\"4.46.zip\"):\n",
    "    pass\n",
    "else:\n",
    "    os.system(\"wget 'https://github.com/kalcaddle/KodExplorer/archive/refs/tags/4.46.zip'\")\n",
    "\n",
    "\n",
    "if os.path.isfile(\"/usr/bin/unzip\"):\n",
    "    os.system(\"unzip 4.46.zip\")\n",
    "else :\n",
    "    os.system(\"apt install unzip\")\n",
    "    os.system(\"unzip 4.46.zip\")\n",
    "\n",
    "!apt update  > /dev/null 2>&1 &\n",
    "!apt install php\n",
    "!apt install php-curl > /dev/null 2>&1 &\n",
    "!apt install php-mbstring > /dev/null 2>&1 &\n",
    "!apt install php-gd > /dev/null 2>&1 &\n",
    "\n",
    "!php -S 127.0.0.1:8081 -t KodExplorer-4.46/ > /dev/null 2>&1 &\n",
    "\n",
    "if os.path.isfile(\"/usr/bin/lt\"):\n",
    "    pass\n",
    "else:\n",
    "    print(\"install localtunnel first\")\n",
    "\n",
    "!lt --port 8081"
   ],
   "outputs": [],
   "metadata": {}
  },
  {
   "cell_type": "markdown",
   "source": [
    "### 📚 Follow me on GitHub for more: [_@jakbin_](https://github.com/jakbin)\n",
    "##### 📦 Repo: [Github](https://github.com/jakbin/Torrents-to-Google-Drive)"
   ],
   "metadata": {
    "id": "_T-A9oteyW14"
   }
  }
 ],
 "metadata": {
  "accelerator": "GPU",
  "colab": {
   "collapsed_sections": [
    "4E-uzYrv5o0B",
    "fkaNFMaxHDWz",
    "6I2huqscJEPn"
   ],
   "include_colab_link": true,
   "name": "Torrents to Google Drive (localtunnel ver.)",
   "provenance": [],
   "toc_visible": true
  },
  "kernelspec": {
   "display_name": "Python 3",
   "language": "python",
   "name": "python3"
  },
  "language_info": {
   "codemirror_mode": {
    "name": "ipython",
    "version": 3
   },
   "file_extension": ".py",
   "mimetype": "text/x-python",
   "name": "python",
   "nbconvert_exporter": "python",
   "pygments_lexer": "ipython3",
   "version": "3.9.2"
  }
 },
 "nbformat": 4,
 "nbformat_minor": 1
}