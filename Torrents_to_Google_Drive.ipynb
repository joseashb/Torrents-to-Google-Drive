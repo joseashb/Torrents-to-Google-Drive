{
 "cells": [
  {
   "cell_type": "markdown",
   "metadata": {
    "colab_type": "text",
    "id": "view-in-github"
   },
   "source": [
    "<a href=\"https://colab.research.google.com/github/jakbin/Torrents-to-Google-Drive/blob/master/Torrents_to_Google_Drive.ipynb\" target=\"_parent\"><img src=\"https://colab.research.google.com/assets/colab-badge.svg\" alt=\"Open In Colab\"/></a>"
   ]
  },
  {
   "cell_type": "markdown",
   "metadata": {
    "id": "HGctdySsIGFS"
   },
   "source": [
    "# **<font color='blue'> Torrents to Google Drive - Shared by [jakbin](https://github.com/jakbin) and slightly ) </font>**\n"
   ]
  },
  {
   "cell_type": "markdown",
   "metadata": {
    "id": "4E-uzYrv5o0B"
   },
   "source": [
    "### Mount Google Drive"
   ]
  },
  {
   "cell_type": "code",
   "execution_count": null,
   "metadata": {
    "cellView": "form",
    "id": "iroeLPFdXbif"
   },
   "outputs": [],
   "source": [
    "from google.colab import drive\n",
    "\n",
    "drive.mount(\"/content/drive\")"
   ]
  },
  {
   "cell_type": "markdown",
   "metadata": {
    "id": "fkaNFMaxHDWz"
   },
   "source": [
    "---\n",
    "# <img src='https://raw.githubusercontent.com/sudo-ken/Torrents-to-Google-Drive/master/title_qbittorrent.png' height=\"45\" alt=\"qBittorrent\"/>"
   ]
  },
  {
   "cell_type": "code",
   "execution_count": null,
   "metadata": {
    "cellView": "form",
    "id": "z3GBOoFFY9CB"
   },
   "outputs": [],
   "source": [
    "###INSTALL LOCALTUNNEL\n",
    "!npm install -g localtunnel\n"
   ]
  },
  {
   "cell_type": "code",
   "execution_count": null,
   "metadata": {
    "cellView": "form",
    "id": "ELoHkXE1Xnms"
   },
   "outputs": [],
   "source": [
    "###INSTALL QBITTORRENT\n",
    "import os, time, urllib.request, json; from IPython.display import clear_output\n",
    "\n",
    "\n",
    "if os.path.isfile(\"/usr/bin/qbittorrent-nox\") == False:\n",
    "    get_ipython().system_raw(\"apt update -qq -y && yes \"\" | add-apt-repository ppa:qbittorrent-team/qbittorrent-stable\")\n",
    "    get_ipython().system_raw(\"apt install qbittorrent-nox\")\n",
    "    get_ipython().system_raw(\"mkdir -p -m 666 /{content/qBittorrent,root/{.qBittorrent_temp,.config/qBittorrent}} && curl -s https://raw.githubusercontent.com/jakbin/Torrents-to-Google-Drive/main/7TEALGNz.txt -o /root/.config/qBittorrent/qBittorrent.conf\")\n",
    "    print(\"qBittorrent successfully installed.\")\n",
    "    clear_output(wait=True)\n",
    "else:\n",
    "    print(\"qBittorrent already installed. Skipping...\")\n",
    "    clear_output(wait=True)\n",
    "    !pkill qbittorrent-nox\n",
    "    \n",
    "!qbittorrent-nox -d --webui-port=5454\n",
    "print(\"qBittorrent started \")\n",
    "clear_output(wait=True)\n",
    "\n",
    "!lt --port 5454"
   ]
  },
  {
   "cell_type": "markdown",
   "metadata": {
    "id": "_T-A9oteyW14"
   },
   "source": [
    "### 📚 Follow me on GitHub for more: [_@jakbin_](https://github.com/jakbin)\n",
    "##### 📦 Repo: [Github](https://github.com/jakbin/Torrents-to-Google-Drive)"
   ]
  }
 ],
 "metadata": {
  "accelerator": "GPU",
  "colab": {
   "collapsed_sections": [
    "4E-uzYrv5o0B",
    "fkaNFMaxHDWz",
    "6I2huqscJEPn"
   ],
   "include_colab_link": true,
   "name": "Torrents to Google Drive (localtunnel ver.)",
   "provenance": [],
   "toc_visible": true
  },
  "kernelspec": {
   "display_name": "Python 3",
   "language": "python",
   "name": "python3"
  },
  "language_info": {
   "codemirror_mode": {
    "name": "ipython",
    "version": 3
   },
   "file_extension": ".py",
   "mimetype": "text/x-python",
   "name": "python",
   "nbconvert_exporter": "python",
   "pygments_lexer": "ipython3",
   "version": "3.9.2"
  }
 },
 "nbformat": 4,
 "nbformat_minor": 1
}
